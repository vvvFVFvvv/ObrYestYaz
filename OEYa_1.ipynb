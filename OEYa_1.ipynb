{
 "cells": [
  {
   "cell_type": "code",
   "execution_count": 27,
   "id": "2db4e7a2",
   "metadata": {},
   "outputs": [],
   "source": [
    "import torch\n",
    "import numpy as np\n",
    "import torch.nn as nn\n",
    "import torch.nn.functional as F\n",
    "import torch.optim as optim\n",
    "import random"
   ]
  },
  {
   "cell_type": "code",
   "execution_count": 28,
   "id": "8dd761cb",
   "metadata": {},
   "outputs": [],
   "source": [
    "path = \"dict.opcorpora.txt\"\n",
    "\n",
    "lemmas = {}\n",
    "morphs = {}\n",
    "with open(path, 'r', encoding='utf-8') as f:\n",
    "    flag = False\n",
    "    for line in f:\n",
    "        line = line.strip().split('\\t')\n",
    "        if len(line) == 1:\n",
    "            flag = True\n",
    "            continue\n",
    "        if flag: \n",
    "            lemma = line[0].lower()\n",
    "            morf = line[1].split(',')[0].split(' ')[0].lower()\n",
    "            flag = False\n",
    "            i = 0\n",
    "        if len(line) != 0:\n",
    "            word = line[0].lower()\n",
    "            lemmas[word] = lemma\n",
    "            morphs[word] = morf\n",
    "        else: \n",
    "            continue"
   ]
  },
  {
   "cell_type": "code",
   "execution_count": 29,
   "id": "7fa305bb",
   "metadata": {},
   "outputs": [],
   "source": [
    "# Делим на обучающую и тестовую части\n",
    "import numpy as np\n",
    "from sklearn.model_selection import train_test_split \n",
    "\n",
    "lemmas_X = list(lemmas.keys())\n",
    "lemmas_y = list(lemmas.values())\n",
    "lemmas_train_X, lemmas_test_X, lemmas_train_y, lemmas_test_y = train_test_split(lemmas_X, lemmas_y)\n",
    "l_train = {}\n",
    "l_test = {}\n",
    "for i in range(len(lemmas_train_X)):\n",
    "    l_train[lemmas_train_X[i]] = lemmas_train_y[i]\n",
    "for i in range(len(lemmas_test_X)):\n",
    "    l_test[lemmas_test_X[i]] = lemmas_test_y[i]    "
   ]
  },
  {
   "cell_type": "code",
   "execution_count": 30,
   "id": "e8780a56",
   "metadata": {},
   "outputs": [],
   "source": [
    "morphs_X = list(morphs.keys())\n",
    "morphs_y = list(morphs.values())\n",
    "morphs_train_X, morphs_test_X, morphs_train_y, morphs_test_y = train_test_split(morphs_X, morphs_y)\n",
    "m_train = {}\n",
    "m_test = {}\n",
    "for i in range(len(morphs_train_X)):\n",
    "    m_train[morphs_train_X[i]] = morphs_train_y[i]\n",
    "for i in range(len(morphs_test_X)):\n",
    "    m_test[morphs_test_X[i]] = morphs_test_y[i]    "
   ]
  },
  {
   "cell_type": "markdown",
   "id": "4534ca21",
   "metadata": {},
   "source": [
    "## Лемматизация "
   ]
  },
  {
   "cell_type": "code",
   "execution_count": 32,
   "id": "2fb319a4",
   "metadata": {},
   "outputs": [
    {
     "data": {
      "text/plain": [
       "40"
      ]
     },
     "execution_count": 32,
     "metadata": {},
     "output_type": "execute_result"
    }
   ],
   "source": [
    "# ищем максимально возможную длину слова в словаре\n",
    "max_len = -1\n",
    "for word in lemmas.keys():\n",
    "    if len(word) > max_len:\n",
    "        max_len = len(word)\n",
    "max_len        "
   ]
  },
  {
   "cell_type": "markdown",
   "id": "853c865f",
   "metadata": {},
   "source": [
    "#### Подготовка данных "
   ]
  },
  {
   "cell_type": "code",
   "execution_count": 34,
   "id": "96eab410",
   "metadata": {},
   "outputs": [],
   "source": [
    "SOS_token = 0\n",
    "EOS_token = 1\n",
    "\n",
    "\n",
    "class Letters:\n",
    "  \n",
    "    def __init__(self):\n",
    "        self.letter2index, self.letter2count = {}, {}\n",
    "        self.index2letter = {0: \"SOS\", 1: \"EOS\"}\n",
    "        self.n_letters = 2  # Учитываем SOS и EOS, это счётчик для нумерации\n",
    "\n",
    "    def add_word(self, word):\n",
    "        for letter in word:\n",
    "            self.add_letter(letter)\n",
    "\n",
    "    def add_letter(self, letter):\n",
    "\n",
    "        if letter not in self.letter2index:\n",
    "            self.letter2index[letter] = self.n_letters\n",
    "            self.letter2count[letter] = 1\n",
    "            self.index2letter[self.n_letters] = letter\n",
    "            self.n_letters += 1\n",
    "        else:\n",
    "            self.letter2count[letter] += 1"
   ]
  },
  {
   "cell_type": "code",
   "execution_count": 35,
   "id": "005bea4c",
   "metadata": {},
   "outputs": [
    {
     "name": "stdout",
     "output_type": "stream",
     "text": [
      "Counting letters...\n",
      "Counted letters:\n",
      "48\n",
      "Counting letters...\n",
      "Counted letters:\n",
      "49\n"
     ]
    }
   ],
   "source": [
    "\n",
    "def prepare_data(lemmas):\n",
    "    letters = Letters()  \n",
    "\n",
    "    print(\"Counting letters...\")\n",
    "    for w in lemmas.keys():\n",
    "        letters.add_word(w)\n",
    "    for l in lemmas.values():    \n",
    "        letters.add_word(l)\n",
    "\n",
    "    print(\"Counted letters:\")\n",
    "    print(letters.n_letters)\n",
    "    \n",
    "    return letters, list(lemmas.items())\n",
    "\n",
    "letters, pairs = prepare_data(l_train)\n",
    "letters, _ = prepare_data(lemmas)"
   ]
  },
  {
   "cell_type": "markdown",
   "id": "b40e9e09",
   "metadata": {},
   "source": [
    "#### Модель "
   ]
  },
  {
   "cell_type": "code",
   "execution_count": 37,
   "id": "b85f5f23",
   "metadata": {},
   "outputs": [],
   "source": [
    "class EncoderRNN(nn.Module):\n",
    "\n",
    "    def __init__(self, input_size, hidden_size):\n",
    "        super(EncoderRNN, self).__init__()\n",
    "        self.hidden_size = hidden_size\n",
    "        self.embedding = nn.Embedding(input_size, hidden_size)\n",
    "        self.gru = nn.GRU(hidden_size, hidden_size)\n",
    "\n",
    "    def forward(self, input, hidden):\n",
    "        embedded = self.embedding(input).view(1, 1, -1)\n",
    "        output = embedded\n",
    "        output, hidden = self.gru(output, hidden)\n",
    "        return output, hidden\n",
    "\n",
    "    def init_hidden(self):\n",
    "        return torch.zeros(1, 1, self.hidden_size, device=device)\n",
    "        "
   ]
  },
  {
   "cell_type": "code",
   "execution_count": 38,
   "id": "e950f39e",
   "metadata": {},
   "outputs": [],
   "source": [
    "MAX_LENGTH = 40 # ограничение на длину последовательности.\n",
    "\n",
    "class AttnDecoderRNN(nn.Module):\n",
    "\n",
    "    def __init__(self, hidden_size, output_size, dropout_p=0.1, max_length=MAX_LENGTH):\n",
    "        super(AttnDecoderRNN, self).__init__()\n",
    "\n",
    "        self.hidden_size, self.output_size = hidden_size, output_size\n",
    "        self.dropout_p, self.max_length = dropout_p, max_length\n",
    "\n",
    "        # преобразовываем вход\n",
    "        self.embedding = nn.Embedding(self.output_size, self.hidden_size)\n",
    "\n",
    "        # у внимания \"двойной\" вход, а выход -- \n",
    "        # набор скаляров на всю потенциальную длину КОДИРУЕМОГО предложения\n",
    "        self.attn = nn.Linear(self.hidden_size * 2, self.max_length)\n",
    "\n",
    "        # будем объединять взвешенную сумму выходов кодировщика \n",
    "        # и эмбеддинг в один вектор на вход для ячейки GRU \n",
    "        self.attn_combine = nn.Linear(self.hidden_size * 2, self.hidden_size)\n",
    "\n",
    "        self.dropout = nn.Dropout(self.dropout_p)\n",
    "        self.gru = nn.GRU(self.hidden_size, self.hidden_size)\n",
    "\n",
    "        # предсказания\n",
    "        self.out = nn.Linear(self.hidden_size, self.output_size)\n",
    "\n",
    "    def forward(self, input, hidden, encoder_outputs):\n",
    "\n",
    "        # построили эмбеддинг\n",
    "        embedded = self.embedding(input).view(1, 1, -1)\n",
    "        # применили дропаут\n",
    "        embedded = self.dropout(embedded)\n",
    "\n",
    "        # применили линейный слой к преобразованному входу и полученному \n",
    "        # скрытому состоянию; получили вектор длины max_length\n",
    "        attn_weights = F.softmax(\n",
    "            self.attn(torch.cat((embedded[0], hidden[0]), 1)), dim=1)\n",
    "        \n",
    "        # домножили выходы кодировщика на веса внимания\n",
    "        attn_applied = torch.bmm(attn_weights.unsqueeze(0),\n",
    "                                 encoder_outputs.unsqueeze(0))\n",
    "\n",
    "        # приклеили полученный вектор к эмбеддингу входа\n",
    "        output = torch.cat((embedded[0], attn_applied[0]), 1)\n",
    "        output = self.attn_combine(output).unsqueeze(0)\n",
    "\n",
    "        # применили нелинейное преобразование\n",
    "        output = F.relu(output)\n",
    "\n",
    "        # применили рекуррентную ячейку\n",
    "        output, hidden = self.gru(output, hidden)\n",
    "\n",
    "        # применили к выходу софтмакс, чтобы получить очередной токен\n",
    "        output = F.log_softmax(self.out(output[0]), dim=1)\n",
    "        \n",
    "        return output, hidden, attn_weights\n",
    "\n",
    "    def init_hidden(self):\n",
    "        return torch.zeros(1, 1, self.hidden_size, device=device)"
   ]
  },
  {
   "cell_type": "markdown",
   "id": "bcad1f5f",
   "metadata": {},
   "source": [
    "#### Обучение"
   ]
  },
  {
   "cell_type": "code",
   "execution_count": 40,
   "id": "a238d54a",
   "metadata": {},
   "outputs": [],
   "source": [
    "def indexes_from_word(letters, word):\n",
    "    return [letters.letter2index[letter] for letter in word]\n",
    "\n",
    "def tensor_from_word(letters, word):\n",
    "    indexes = indexes_from_word(letters, word)\n",
    "    indexes.append(EOS_token)\n",
    "    return torch.tensor(indexes, dtype=torch.long, device=device).view(-1, 1)\n",
    "\n",
    "def tensor_from_pair(pair):\n",
    "    input_tensor = tensor_from_word(letters, pair[0])\n",
    "    target_tensor = tensor_from_word(letters, pair[1])\n",
    "    return (input_tensor, target_tensor)"
   ]
  },
  {
   "cell_type": "code",
   "execution_count": 41,
   "id": "385631df",
   "metadata": {},
   "outputs": [],
   "source": [
    "teacher_forcing_ratio = 0.7\n",
    "\n",
    "\n",
    "def train(input_tensor, target_tensor, \n",
    "          encoder, decoder, \n",
    "          encoder_optimizer, decoder_optimizer, # да, два\n",
    "          criterion, max_length=MAX_LENGTH):\n",
    "  \n",
    "    encoder_hidden = encoder.init_hidden()\n",
    "    encoder_optimizer.zero_grad()\n",
    "    decoder_optimizer.zero_grad()\n",
    "\n",
    "    input_length = input_tensor.size(0) # первое измерение -- длина\n",
    "    target_length = target_tensor.size(0)\n",
    "\n",
    "    encoder_outputs = torch.zeros(max_length, encoder.hidden_size, device=device)\n",
    "    loss = 0\n",
    "\n",
    "    for ei in range(input_length):\n",
    "        encoder_output, encoder_hidden = encoder(input_tensor[ei], encoder_hidden)\n",
    "        encoder_outputs[ei] = encoder_output[0, 0]\n",
    "\n",
    "    decoder_input = torch.tensor([[SOS_token]], device=device)\n",
    "    decoder_hidden = encoder_hidden\n",
    "\n",
    "    # True, если меньше выбранной \"доли срабатываний\" `teacher_forcing_ratio`\n",
    "    use_teacher_forcing = random.random() < teacher_forcing_ratio\n",
    "\n",
    "    if use_teacher_forcing:\n",
    "        # Teacher forcing: подставляем истинный токен на всей последовательности\n",
    "        for di in range(target_length):\n",
    "            decoder_output, decoder_hidden, decoder_attention = decoder(\n",
    "                decoder_input, # индекс\n",
    "                decoder_hidden, # скрытое состояния\n",
    "                encoder_outputs # выходы кодировщика\n",
    "                )\n",
    "            # сравниваем выход декодировщика с ИСТИННЫМ тензором (это всегда)\n",
    "            loss += criterion(decoder_output, target_tensor[di])\n",
    "            # берём в качестве следующего входа ИСТИННЫЙ тензор --\n",
    "            decoder_input = target_tensor[di]  # ... это teacher forcing\n",
    "\n",
    "    else:\n",
    "        # БЕЗ teacher forcing: собственные предсказания как сл. вход\n",
    "        for di in range(target_length):\n",
    "\n",
    "            decoder_output, decoder_hidden, decoder_attention = decoder(\n",
    "                decoder_input, decoder_hidden, encoder_outputs)\n",
    "            \n",
    "            # берём самый большой выход софтмакса\n",
    "            topv, topi = decoder_output.topk(1)\n",
    "            decoder_input = topi.squeeze().detach()  # открепляем от выч. графа\n",
    "            loss += criterion(decoder_output, target_tensor[di])\n",
    "\n",
    "            # если предсказали EOS, заканчиваем\n",
    "            if decoder_input.item() == EOS_token:\n",
    "                break\n",
    "\n",
    "    loss.backward()\n",
    "    encoder_optimizer.step()\n",
    "    decoder_optimizer.step()\n",
    "\n",
    "    return loss.item() / target_length"
   ]
  },
  {
   "cell_type": "code",
   "execution_count": 42,
   "id": "56cf75da",
   "metadata": {},
   "outputs": [],
   "source": [
    "import time\n",
    "import math\n",
    "\n",
    "\n",
    "def asMinutes(s):\n",
    "    m = math.floor(s / 60)\n",
    "    s -= m * 60\n",
    "    return '%dm %ds' % (m, s)\n",
    "\n",
    "\n",
    "def timeSince(since, percent):\n",
    "    now = time.time()\n",
    "    s = now - since\n",
    "    es = s / (percent)\n",
    "    rs = es - s\n",
    "    return '%s (- %s)' % (asMinutes(s), asMinutes(rs))"
   ]
  },
  {
   "cell_type": "code",
   "execution_count": 43,
   "id": "97b52d26",
   "metadata": {},
   "outputs": [],
   "source": [
    "import matplotlib.pyplot as plt \n",
    "from tqdm import tqdm\n",
    "\n",
    "def train_iter(encoder, decoder, \n",
    "               n_iters, \n",
    "               print_every=1000, plot_every=100, \n",
    "               learning_rate=0.001):\n",
    "    \n",
    "    start = time.time()\n",
    "    plot_losses = []\n",
    "    print_loss_total, plot_loss_total = 0, 0\n",
    "\n",
    "    encoder_optimizer = optim.SGD(encoder.parameters(), lr=learning_rate)\n",
    "    decoder_optimizer = optim.SGD(decoder.parameters(), lr=learning_rate)\n",
    "\n",
    "    training_pairs = [tensor_from_pair(random.choice(pairs))\n",
    "                      for i in range(n_iters)]\n",
    "    criterion = nn.NLLLoss()\n",
    "\n",
    "    for iter in tqdm(range(1, n_iters + 1)):\n",
    "        training_pair = training_pairs[iter - 1]\n",
    "        input_tensor = training_pair[0]\n",
    "        target_tensor = training_pair[1]\n",
    "\n",
    "        loss = train(input_tensor, target_tensor, \n",
    "                     encoder, decoder, \n",
    "                     encoder_optimizer, decoder_optimizer, \n",
    "                     criterion)\n",
    "        \n",
    "        print_loss_total += loss\n",
    "        plot_loss_total += loss\n",
    "\n",
    "#         if iter % print_every == 0:\n",
    "#             print_loss_avg = print_loss_total / print_every\n",
    "#             print_loss_total = 0\n",
    "#             print('%s (%d %d%%) %.4f' % (timeSince(start, iter / n_iters),\n",
    "#                                          iter, iter / n_iters * 100, print_loss_avg))\n",
    "\n",
    "        if iter % plot_every == 0:\n",
    "            plot_loss_avg = plot_loss_total / plot_every\n",
    "            # сохраняем средний лосс с прошлого момента измерения\n",
    "            plot_losses.append(plot_loss_avg)\n",
    "            plot_loss_total = 0\n",
    "\n",
    "\n",
    "    plt.plot([i for i in range(len(plot_losses))], plot_losses)"
   ]
  },
  {
   "cell_type": "code",
   "execution_count": 44,
   "id": "decf07c9",
   "metadata": {},
   "outputs": [
    {
     "name": "stderr",
     "output_type": "stream",
     "text": [
      "100%|██████████| 150000/150000 [3:29:04<00:00, 11.96it/s]  \n"
     ]
    },
    {
     "data": {
      "image/png": "[encoded data removed]",
      "text/plain": [
       "<Figure size 640x480 with 1 Axes>"
      ]
     },
     "metadata": {},
     "output_type": "display_data"
    }
   ],
   "source": [
    "device='cuda' if torch.cuda.is_available() else 'cpu'\n",
    "hidden_size = 256\n",
    "encoder1 = EncoderRNN(letters.n_letters, hidden_size).to(device)\n",
    "attn_decoder1 = AttnDecoderRNN(hidden_size, letters.n_letters, dropout_p=0.3).to(device)\n",
    "\n",
    "train_iter(encoder1, attn_decoder1, 150000, print_every=1000)"
   ]
  },
  {
   "cell_type": "markdown",
   "id": "1cc97065",
   "metadata": {},
   "source": [
    "#### Валидация"
   ]
  },
  {
   "cell_type": "code",
   "execution_count": 46,
   "id": "39edaa6b",
   "metadata": {},
   "outputs": [],
   "source": [
    "def evaluate(encoder, decoder, word, max_length=MAX_LENGTH):\n",
    "\n",
    "    with torch.no_grad():\n",
    "\n",
    "        input_tensor = tensor_from_word(letters, word)\n",
    "        input_length = input_tensor.size()[0]\n",
    "        encoder_hidden = encoder.init_hidden()\n",
    "        encoder_outputs = torch.zeros(max_length, encoder.hidden_size, device=device)\n",
    "\n",
    "        for ei in range(input_length):\n",
    "            encoder_output, encoder_hidden = encoder(input_tensor[ei],\n",
    "                                                     encoder_hidden)\n",
    "            encoder_outputs[ei] += encoder_output[0, 0]\n",
    "\n",
    "        decoder_input = torch.tensor([[SOS_token]], device=device)  # SOS\n",
    "        decoder_hidden = encoder_hidden\n",
    "\n",
    "        # сохраняем для последующего анализа\n",
    "        decoded_words = []\n",
    "        decoder_attentions = torch.zeros(max_length, max_length)\n",
    "\n",
    "        for di in range(max_length):\n",
    "\n",
    "            decoder_output, decoder_hidden, decoder_attention = decoder(\n",
    "                decoder_input, decoder_hidden, encoder_outputs)\n",
    "\n",
    "            # раз\n",
    "            decoder_attentions[di] = decoder_attention.data\n",
    "            topv, topi = decoder_output.data.topk(1)\n",
    "\n",
    "            if topi.item() == EOS_token:\n",
    "                decoded_words.append('<EOS>')\n",
    "                break\n",
    "            else:\n",
    "                # два\n",
    "                decoded_words.append(letters.index2letter[topi.item()])\n",
    "\n",
    "            decoder_input = topi.squeeze().detach()\n",
    "\n",
    "        return decoded_words, decoder_attentions[:di + 1]"
   ]
  },
  {
   "cell_type": "code",
   "execution_count": 47,
   "id": "e9251d01",
   "metadata": {},
   "outputs": [
    {
     "name": "stdout",
     "output_type": "stream",
     "text": [
      "багатюке багатюк\n",
      "перераспределялись перераспределяюсь\n",
      "сильнодеформируемым сильнодеформируемый\n",
      "спрайтам спраю\n",
      "отмучившемуся отмучившийся\n",
      "рецикла рецикла\n",
      "усадебна усадебна\n",
      "ремитировано ремитирован\n",
      "посушившись посушившись\n",
      "маврскою маврский\n",
      "сахалинглавснабы сахалинглавсаб\n",
      "надрёберный надрёберный\n",
      "гипергамиях гипергамия\n",
      "пробурив пробурив\n",
      "приищись приищись\n"
     ]
    }
   ],
   "source": [
    "for word in list(l_test.keys())[0:15]:\n",
    "    pred = evaluate(encoder1, attn_decoder1, word, max_length=MAX_LENGTH)[0]\n",
    "    lemma = ''\n",
    "    for l in pred:\n",
    "        if l != '<EOS>':\n",
    "            lemma += l\n",
    "    print(word, lemma)"
   ]
  },
  {
   "cell_type": "code",
   "execution_count": 48,
   "id": "0dd9b753",
   "metadata": {},
   "outputs": [
    {
     "name": "stdout",
     "output_type": "stream",
     "text": [
      "кофейника прицепом вознессенная стучковой фасоли --> кофейник прицеп вознессенный стучковый фасоль\n"
     ]
    }
   ],
   "source": [
    "def lemmatize(mystr):\n",
    "    mylemmas = []\n",
    "    mystr = mystr.lower()\n",
    "    words = mystr.strip().split(' ')\n",
    "    for word in words:\n",
    "        pred = evaluate(encoder1, attn_decoder1, word, max_length=MAX_LENGTH)[0]\n",
    "        lemma = ''\n",
    "        for l in pred:\n",
    "            if l != '<EOS>':\n",
    "                lemma += l\n",
    "\n",
    "        mylemmas.append(lemma)\n",
    "    return ' '.join(mylemmas)\n",
    "mystr = 'кофейника прицепом вознессенная стучковой фасоли'\n",
    "print(f'{mystr} --> {lemmatize(mystr)}')"
   ]
  },
  {
   "cell_type": "code",
   "execution_count": null,
   "id": "6af177c8",
   "metadata": {},
   "outputs": [],
   "source": []
  },
  {
   "cell_type": "code",
   "execution_count": null,
   "id": "dee95028",
   "metadata": {},
   "outputs": [],
   "source": []
  },
  {
   "cell_type": "markdown",
   "id": "63f06b73",
   "metadata": {},
   "source": [
    "## Частеречная разметка"
   ]
  },
  {
   "cell_type": "code",
   "execution_count": 50,
   "id": "6b495200",
   "metadata": {},
   "outputs": [],
   "source": [
    "from torch.utils.data import TensorDataset, DataLoader\n",
    "from sklearn.model_selection import train_test_split\n",
    "\n",
    "m2idx = {}\n",
    "for val in morphs.values():\n",
    "    if val not in m2idx:\n",
    "        m2idx[val] = len(m2idx)\n",
    "        \n",
    "idx2m = {v:k for (k,v) in m2idx.items()}"
   ]
  },
  {
   "cell_type": "code",
   "execution_count": 51,
   "id": "a654bf1b",
   "metadata": {},
   "outputs": [
    {
     "data": {
      "text/plain": [
       "{0: 'noun',\n",
       " 1: 'advb',\n",
       " 2: 'adjf',\n",
       " 3: 'adjs',\n",
       " 4: 'comp',\n",
       " 5: 'verb',\n",
       " 6: 'prts',\n",
       " 7: 'infn',\n",
       " 8: 'prtf',\n",
       " 9: 'grnd',\n",
       " 10: 'prep',\n",
       " 11: 'prcl',\n",
       " 12: 'conj',\n",
       " 13: 'intj',\n",
       " 14: 'pred',\n",
       " 15: 'numr',\n",
       " 16: 'npro'}"
      ]
     },
     "execution_count": 51,
     "metadata": {},
     "output_type": "execute_result"
    }
   ],
   "source": [
    "idx2m"
   ]
  },
  {
   "cell_type": "code",
   "execution_count": 52,
   "id": "72157de0",
   "metadata": {},
   "outputs": [],
   "source": [
    "morphs_X = list(morphs.keys())\n",
    "morphs_y = [m2idx[m] for m in list(morphs.values())]\n",
    "morphs_train_X, morphs_test_X, morphs_train_y, morphs_test_y = train_test_split(morphs_X, morphs_y)\n"
   ]
  },
  {
   "cell_type": "code",
   "execution_count": 110,
   "id": "50c6a151",
   "metadata": {},
   "outputs": [
    {
     "data": {
      "text/plain": [
       "(111579035, 569557000)"
      ]
     },
     "execution_count": 110,
     "metadata": {},
     "output_type": "execute_result"
    }
   ],
   "source": [
    "from gensim.models import FastText\n",
    "\n",
    "model = FastText(vector_size=220, window=3, min_count=1)\n",
    "model.build_vocab(corpus_iterable=morphs_train_X[:100000])\n",
    "model.train(corpus_iterable=morphs_train_X[:100000], total_words=len(morphs_train_X[:100000]), epochs=500)"
   ]
  },
  {
   "cell_type": "code",
   "execution_count": 111,
   "id": "15993394",
   "metadata": {},
   "outputs": [
    {
     "data": {
      "text/plain": [
       "array([ 3.47858673e-04, -1.57573924e-03, -5.96463680e-04, -1.48247404e-03,\n",
       "       -8.92188691e-04, -2.02966083e-04,  1.30654359e-03, -9.78550292e-04,\n",
       "       -2.81875650e-03, -2.42081573e-04, -6.61555212e-04, -3.43250431e-04,\n",
       "       -2.55993305e-04, -4.52747568e-04,  1.92958349e-03,  2.87829689e-03,\n",
       "       -9.87141029e-05,  3.15831392e-03, -4.68043145e-04, -2.07579019e-03,\n",
       "        9.11853567e-04, -1.80355913e-03, -8.32746562e-04, -2.58494657e-03,\n",
       "        1.01359806e-03,  2.77216011e-03,  4.62113559e-04,  1.03912328e-03,\n",
       "        2.50834040e-04,  7.77602720e-04,  9.06168076e-04,  4.80990886e-04,\n",
       "       -6.59207173e-04, -9.91474022e-04, -3.57801073e-05,  2.82016955e-03,\n",
       "       -1.47267361e-04, -2.11666408e-03, -2.88496423e-03, -8.14319297e-04,\n",
       "       -2.58089718e-03, -1.53486675e-03,  4.58186347e-04,  7.45438796e-04,\n",
       "        4.92329302e-04, -2.17611901e-03,  2.27614233e-04,  1.50082202e-03,\n",
       "       -1.92105304e-03,  2.67914333e-03, -1.62157824e-03,  1.11578917e-03,\n",
       "        5.58314729e-04,  1.00854912e-03, -7.59979244e-04,  2.19885795e-03,\n",
       "       -2.28698575e-03, -1.08371850e-03,  3.11161013e-04,  1.91453320e-03,\n",
       "       -1.07027205e-04,  2.89024622e-03,  1.34415959e-03, -1.69309601e-03,\n",
       "       -2.80966819e-03,  8.34379869e-04,  7.24576748e-05,  1.36516488e-03,\n",
       "       -1.57170070e-04, -8.71823577e-04, -1.16617454e-03,  1.20570604e-03,\n",
       "       -8.18496279e-04, -1.59599865e-03, -2.99434853e-03, -5.10447826e-05,\n",
       "       -8.60881992e-05, -5.96835918e-04, -1.02891529e-03,  2.38715089e-03,\n",
       "        7.32925779e-04,  1.72889221e-03,  1.06910174e-03,  1.22761389e-03,\n",
       "       -1.78545760e-03,  1.70145184e-04,  1.24852022e-03,  1.15285988e-03,\n",
       "        5.22317532e-05, -6.80493831e-04, -1.50903082e-03, -3.49209848e-04,\n",
       "       -1.32952270e-03,  2.20223330e-03,  2.79040379e-03, -9.51467024e-04,\n",
       "        2.67132255e-03, -1.45540864e-03,  3.75746080e-04, -2.91230070e-04,\n",
       "       -2.69226800e-03, -2.31881370e-03, -5.37133252e-04, -2.51449156e-03,\n",
       "       -1.33282610e-03, -2.13379343e-03, -1.35601999e-03, -1.73764117e-03,\n",
       "       -1.25315983e-03,  2.34781788e-03,  4.12733294e-04, -1.35034509e-03,\n",
       "       -2.54716375e-03, -3.89073655e-04,  6.64271356e-04, -2.64550303e-03,\n",
       "       -1.35278946e-03,  3.32968280e-04, -8.39841086e-05, -7.22251498e-05,\n",
       "        1.49135513e-03,  1.46505085e-03, -1.39667699e-03, -2.36469437e-03,\n",
       "        1.54801222e-04,  2.06299778e-03,  8.77579965e-04, -2.47729098e-04,\n",
       "        2.51378980e-03,  1.48837762e-05, -1.02823728e-03, -2.23820074e-03,\n",
       "        1.85034387e-05,  4.26309794e-04, -1.75421231e-03,  2.19224044e-03,\n",
       "       -1.61412952e-03,  1.95759349e-03, -3.65265715e-03,  3.24416760e-04,\n",
       "        4.25994891e-04,  3.92678958e-05, -1.13805442e-03, -3.27060698e-04,\n",
       "       -3.01359990e-03,  1.78681265e-04,  1.85876025e-03,  4.06498468e-04,\n",
       "       -1.31840946e-03,  3.82099039e-04,  5.11138758e-04, -2.25286232e-03,\n",
       "        2.48039071e-03,  2.64069065e-03, -2.66379747e-03,  1.54689726e-04,\n",
       "        4.95498476e-04,  2.60185479e-04, -6.20648905e-04,  1.34331593e-03,\n",
       "        8.07809120e-04,  2.40023830e-03,  1.95568241e-03, -7.57739981e-05,\n",
       "       -8.05099029e-04,  1.45823730e-03, -2.62327376e-06,  1.13709643e-03,\n",
       "       -1.55728159e-03,  2.62756576e-03,  9.75895440e-04, -2.79763099e-05,\n",
       "       -2.43898365e-03, -7.96580280e-04,  2.68956390e-03, -3.34932283e-03,\n",
       "        7.69944163e-05,  8.97454796e-04,  5.95679339e-05, -3.30015318e-04,\n",
       "       -4.13934933e-04,  3.81240388e-04,  5.43719798e-04, -2.39965273e-04,\n",
       "       -4.91583720e-04,  7.20319164e-04, -1.55389274e-03,  1.09881221e-03,\n",
       "       -1.67659333e-03, -7.52437452e-04, -7.62272102e-04, -1.88772648e-03,\n",
       "        5.40933397e-05,  8.93124845e-04, -3.24551365e-03, -7.96180393e-04,\n",
       "       -5.05486445e-04,  1.04130327e-03,  1.63549755e-03, -9.87391104e-04,\n",
       "        1.05952134e-03,  2.74744700e-03,  2.97707651e-04, -6.54840202e-04,\n",
       "        6.55672746e-04,  3.49410664e-04,  7.29720399e-04, -1.49742293e-03,\n",
       "       -1.73164066e-03, -1.01683638e-03,  2.06926372e-03,  3.87909327e-04,\n",
       "       -1.08124630e-03,  4.05447645e-04, -2.16546631e-03,  3.21950909e-04,\n",
       "       -4.45047015e-04,  2.09462130e-04,  4.37596842e-04,  2.05871998e-03],\n",
       "      dtype=float32)"
      ]
     },
     "execution_count": 111,
     "metadata": {},
     "output_type": "execute_result"
    }
   ],
   "source": [
    "model.wv['еж']"
   ]
  },
  {
   "cell_type": "code",
   "execution_count": 112,
   "id": "8ee404c8",
   "metadata": {},
   "outputs": [],
   "source": [
    "import torch.utils.data as data_utils\n",
    "X_train = [model.wv[word] for word in morphs_train_X]\n",
    "X_test = [model.wv[word] for word in morphs_test_X]\n",
    "\n",
    "inputs_train = torch.tensor(X_train[:100000])\n",
    "targets_train = torch.IntTensor(morphs_train_y[:100000])\n",
    "\n",
    "inputs_test = torch.tensor(X_test)\n",
    "targets_test = torch.IntTensor(morphs_test_y)\n",
    "\n",
    "train = data_utils.TensorDataset(inputs_train, targets_train)\n",
    "test = data_utils.TensorDataset(inputs_test, targets_test)\n",
    "\n",
    "trainset = torch.utils.data.DataLoader(train, batch_size=16, shuffle=True)\n",
    "testset = torch.utils.data.DataLoader(test, batch_size=16, shuffle=False)"
   ]
  },
  {
   "cell_type": "code",
   "execution_count": 113,
   "id": "f943a1f5",
   "metadata": {},
   "outputs": [
    {
     "name": "stdout",
     "output_type": "stream",
     "text": [
      "MorphNet(\n",
      "  (fc1): Linear(in_features=220, out_features=256, bias=True)\n",
      "  (fc2): Linear(in_features=256, out_features=32, bias=True)\n",
      "  (fc3): Linear(in_features=32, out_features=17, bias=True)\n",
      ")\n"
     ]
    }
   ],
   "source": [
    "class MorphNet(nn.Module):\n",
    "    def __init__(self):\n",
    "        super().__init__()  #вх. #вых.\n",
    "        self.fc1 = nn.Linear(220, 256)\n",
    "        self.fc2 = nn.Linear(256, 32)\n",
    "        self.fc3 = nn.Linear(32, 17)\n",
    "\n",
    "    def forward(self, x):\n",
    "        x = F.relu(self.fc1(x))\n",
    "        x = F.relu(self.fc2(x))\n",
    "        x = self.fc3(x)\n",
    "        return F.log_softmax(x, dim=-1)\n",
    "\n",
    "net = MorphNet()\n",
    "print(net)"
   ]
  },
  {
   "cell_type": "code",
   "execution_count": 114,
   "id": "696838c5",
   "metadata": {},
   "outputs": [
    {
     "name": "stderr",
     "output_type": "stream",
     "text": [
      "100%|██████████| 40/40 [25:07<00:00, 37.68s/it]\n"
     ]
    },
    {
     "data": {
      "text/plain": [
       "[<matplotlib.lines.Line2D at 0x139eea6e390>]"
      ]
     },
     "execution_count": 114,
     "metadata": {},
     "output_type": "execute_result"
    },
    {
     "data": {
      "image/png": "[encoded data removed]",
      "text/plain": [
       "<Figure size 640x480 with 1 Axes>"
      ]
     },
     "metadata": {},
     "output_type": "display_data"
    }
   ],
   "source": [
    "import torch.optim as optim\n",
    "from torch.optim.lr_scheduler import OneCycleLR, StepLR\n",
    "plot_every=200\n",
    "loss_function = nn.NLLLoss()\n",
    "optimizer = optim.Adam(net.parameters(), lr=0.00003)\n",
    "scheduler = StepLR(optimizer, 0.00003, gamma=0.9)\n",
    "\n",
    "plot_loss_total = 0\n",
    "plot_losses = []\n",
    "for epoch in tqdm(range(40)): \n",
    "    for iter, data in enumerate(trainset):\n",
    "        X, y = data  \n",
    "        net.zero_grad()\n",
    "        output = net(X.float()) \n",
    "        \n",
    "        loss = loss_function(output, y.long())\n",
    "        plot_loss_total += loss\n",
    "        loss.backward()  \n",
    "        optimizer.step() \n",
    "        if iter % plot_every == 0:\n",
    "            plot_loss_avg = plot_loss_total / plot_every\n",
    "            # сохраняем средний лосс с прошлого момента измерения\n",
    "            plot_losses.append(plot_loss_avg.detach().numpy())\n",
    "            plot_loss_total = 0\n",
    "plt.plot([i for i in range(len(plot_losses))], plot_losses)  "
   ]
  },
  {
   "cell_type": "code",
   "execution_count": 115,
   "id": "9e0ca292",
   "metadata": {},
   "outputs": [],
   "source": [
    "def eval(testset):\n",
    "    ans = []\n",
    "    res = []\n",
    "    with torch.no_grad():\n",
    "        for batch in tqdm(testset):\n",
    "            X, y = batch    \n",
    "            output = net(torch.FloatTensor(X))\n",
    "            for i in range(len(y)):\n",
    "                res.append(torch.argmax(output[i]).item())\n",
    "            ans += y    \n",
    "    return res, ans\n",
    "\n",
    "def eval_on_single_word(word):\n",
    "    with torch.no_grad():\n",
    "        X = model.wv[word] \n",
    "        y = morphs[word] # true morph\n",
    "        output = net(torch.FloatTensor(X))\n",
    "        predict = torch.argmax(output).item()\n",
    "        res = idx2m[predict]        \n",
    "    return word, y, res"
   ]
  },
  {
   "cell_type": "code",
   "execution_count": 116,
   "id": "b8099b80",
   "metadata": {},
   "outputs": [
    {
     "name": "stdout",
     "output_type": "stream",
     "text": [
      "прохромосома, noun --> prtf\n",
      "ямбе, noun --> prtf\n",
      "окрепну, verb --> noun\n",
      "стофутовому, adjf --> noun\n",
      "переодевающих, prtf --> prtf\n",
      "оговорить, infn --> prtf\n",
      "обшаркайте, verb --> noun\n",
      "бечёвочные, adjf --> prtf\n",
      "сучимую, prtf --> prtf\n",
      "детерминирующие, prtf --> noun\n",
      "крупнорассечённую, adjf --> prtf\n",
      "прорезывавшейся, prtf --> prtf\n",
      "закругляйся, verb --> prtf\n",
      "недесятичные, adjf --> prtf\n",
      "баварцах, noun --> noun\n",
      "пакибытью, noun --> noun\n",
      "удосуживайся, verb --> prtf\n",
      "отсечениях, noun --> noun\n",
      "новозыковским, adjf --> noun\n",
      "патронатам, noun --> noun\n"
     ]
    }
   ],
   "source": [
    "for i in range(20):\n",
    "    word, y, res = eval_on_single_word(morphs_test_X[i])\n",
    "    print(f'{word}, {y} --> {res}')"
   ]
  },
  {
   "cell_type": "code",
   "execution_count": 117,
   "id": "e9b432e7",
   "metadata": {},
   "outputs": [
    {
     "name": "stderr",
     "output_type": "stream",
     "text": [
      "100%|██████████| 1000/1000 [00:01<00:00, 847.56it/s]\n"
     ]
    },
    {
     "data": {
      "text/plain": [
       "<sklearn.metrics._plot.confusion_matrix.ConfusionMatrixDisplay at 0x139e0b6a5a0>"
      ]
     },
     "execution_count": 117,
     "metadata": {},
     "output_type": "execute_result"
    },
    {
     "data": {
      "image/png": "[encoded data removed]",
      "text/plain": [
       "<Figure size 640x480 with 2 Axes>"
      ]
     },
     "metadata": {},
     "output_type": "display_data"
    }
   ],
   "source": [
    "from sklearn.metrics import confusion_matrix, ConfusionMatrixDisplay\n",
    "res, ans = eval(list(testset)[:1000])\n",
    "c = confusion_matrix(ans, res)\n",
    "disp = ConfusionMatrixDisplay(c)\n",
    "disp.plot()"
   ]
  },
  {
   "cell_type": "markdown",
   "id": "81f62a5b",
   "metadata": {},
   "source": [
    "## Собираем все вместе"
   ]
  },
  {
   "cell_type": "code",
   "execution_count": 119,
   "id": "fe0d7351",
   "metadata": {},
   "outputs": [],
   "source": [
    "import string \n",
    "def markup(sentence):\n",
    "    # убираем из предложения пунктуацию\n",
    "    sent = ''\n",
    "    for char in sentence:\n",
    "        if char not in string.punctuation:\n",
    "            sent += char\n",
    "    outputs = []\n",
    "    \n",
    "    words = sent.lower().strip().split() # приводим к нижнему регистру и разбиваем на слова\n",
    "    for word in words: # для каждого слова\n",
    "        # предсказываем лемму\n",
    "        pred = evaluate(encoder1, attn_decoder1, word, max_length=MAX_LENGTH)[0]\n",
    "        lemma = ''\n",
    "        for l in pred:\n",
    "            if l != '<EOS>':\n",
    "                lemma += l\n",
    "        # предсказываем часть речи \n",
    "        with torch.no_grad():\n",
    "            X = model.wv[word] \n",
    "            output = net(torch.FloatTensor(X))\n",
    "            predict = torch.argmax(output).item()\n",
    "            morph = idx2m[predict]        \n",
    "        out = (word, lemma, morph)\n",
    "        outputs.append(out)    \n",
    "    return outputs\n",
    "\n",
    "def prettify(sentence):\n",
    "    print_sentence = sentence + '--> '\n",
    "    outputs = markup(sentence)\n",
    "    for out in outputs:\n",
    "        word, lemma, morph = out\n",
    "        print_sentence += f'{word}{{ {lemma}={morph} }} '\n",
    "    print(print_sentence)    "
   ]
  },
  {
   "cell_type": "code",
   "execution_count": 120,
   "id": "69249abd",
   "metadata": {},
   "outputs": [
    {
     "name": "stdout",
     "output_type": "stream",
     "text": [
      "В каждом маленьком ребенке, и в мальчишке, и в девчонке, есть по двести грамм взывчатки!--> в{ вал=prtf } каждом{ каждо=prtf } маленьком{ маленький=noun } ребенке{ ребенка=prtf } и{ =prtf } в{ вал=prtf } мальчишке{ мальчишка=noun } и{ =prtf } в{ вал=prtf } девчонке{ девчонка=noun } есть{ есть=noun } по{ пол=prtf } двести{ двесть=noun } грамм{ граммал=noun } взывчатки{ взывчатка=prtf } \n"
     ]
    }
   ],
   "source": [
    "prettify(\"В каждом маленьком ребенке, и в мальчишке, и в девчонке, есть по двести грамм взывчатки!\")"
   ]
  },
  {
   "cell_type": "code",
   "execution_count": null,
   "id": "c7117bde",
   "metadata": {},
   "outputs": [],
   "source": []
  },
  {
   "cell_type": "code",
   "execution_count": null,
   "id": "5a2b03a3-1b72-492e-800d-85c5a120556c",
   "metadata": {},
   "outputs": [],
   "source": []
  }
 ],
 "metadata": {
  "kernelspec": {
   "display_name": "Python 3 (ipykernel)",
   "language": "python",
   "name": "python3"
  },
  "language_info": {
   "codemirror_mode": {
    "name": "ipython",
    "version": 3
   },
   "file_extension": ".py",
   "mimetype": "text/x-python",
   "name": "python",
   "nbconvert_exporter": "python",
   "pygments_lexer": "ipython3",
   "version": "3.12.7"
  }
 },
 "nbformat": 4,
 "nbformat_minor": 5
}
